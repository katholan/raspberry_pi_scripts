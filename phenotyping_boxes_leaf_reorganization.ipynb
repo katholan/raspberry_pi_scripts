{
  "cells": [
    {
      "cell_type": "markdown",
      "metadata": {
        "id": "view-in-github",
        "colab_type": "text"
      },
      "source": [
        "<a href=\"https://colab.research.google.com/github/katholan/timelaspe_phenotyping_boxes/blob/main/phenotyping_boxes_leaf_reorganization.ipynb\" target=\"_parent\"><img src=\"https://colab.research.google.com/assets/colab-badge.svg\" alt=\"Open In Colab\"/></a>"
      ]
    },
    {
      "cell_type": "markdown",
      "metadata": {
        "id": "eVuSckh-MVVN"
      },
      "source": [
        "## Reorganizing the images from a phenotyping box experiment by leaf instead of by timepoint.\n",
        "1. Upload your images to a folder on your Google Drive \n",
        "2. Change \"filepath\" to that filepath.\n",
        "3. Change file extension if necessary.\n",
        "4. Create a new Google Drive folder where you want your new images to be saved.\n",
        "5. Change \"new_image_dir\" to that filepath.\n",
        "6. Optional: If you would like .gifs of each leaf, create a new Google Drive folder and change \"gif_dir\" to that filepath.\n",
        "6. Change the name of your coordinate file in \"coords\".\n",
        "7. Optional: Change the number of rows and columns in your sub plots. I normally do 48 timepoints with 6 rows of 8 columns. \n",
        "7. Optional: Change the name of \"plt.savefig\" to what you want your new images to be named.\n",
        "8. You can run each cell individually or click \"Runtime\" -> \"Run all\" to run all cells.\n",
        "9. Ensure your files are sorted correctly. The order of the files determines the order of the leaves in the output image. If the files are not in the correct HPI order, your leaves will be out of order in your final image. If your files are not sorting correctly, you may need to rename them or add leading zeros to any numbering system.\n",
        "10. It will likely pause for you to allow access to your files. It will resume automatically after accepting.\n",
        "11. It will pause for you to choose a .csv file directly from your computer that contains your coordinates to each leaf ROI. After choosing a file, it will continue automatically.\n",
        "\n",
        "You do not need anything downloaded to your computer to run this script, just an internet connection. The tab to this Google Colab notebook needs to remain open and your computer needs to remain on. For 48 total timepoints with 40 leaves, the entire notebook took about 10 minutes to complete, with the majority of this being the for loop at the very end. After selecting your .csv file, the script does not need any more external input and can be left to run. \n",
        "\n",
        "If running successfully, you should begin to see your new images saving to your designated output folder as they are created. "
      ]
    },
    {
      "cell_type": "code",
      "source": [
        "from google.colab import drive\n",
        "drive.mount('/content/drive')"
      ],
      "metadata": {
        "id": "wnmvaze9g4wi"
      },
      "execution_count": null,
      "outputs": []
    },
    {
      "cell_type": "code",
      "execution_count": null,
      "metadata": {
        "id": "p3gy73zbYsKi"
      },
      "outputs": [],
      "source": [
        "#load necessary packages. some of these are from previous iterations of the script and are not necessary.\n",
        "import numpy as np\n",
        "import cv2\n",
        "import pandas as pd\n",
        "import matplotlib\n",
        "import skimage\n",
        "from matplotlib import pyplot as plt\n",
        "from skimage import data\n",
        "from skimage import morphology\n",
        "from skimage.filters import try_all_threshold\n",
        "from skimage.filters import threshold_otsu\n",
        "from skimage.filters import sobel\n",
        "from skimage.segmentation import clear_border\n",
        "from skimage.measure import label, regionprops\n",
        "from skimage.morphology import closing, square, remove_small_objects\n",
        "from skimage.segmentation import slic\n",
        "from skimage.color import label2rgb\n",
        "from scipy import ndimage as ndi\n",
        "import glob\n",
        "import timeit\n",
        "import seaborn as sns\n",
        "from PIL import Image\n",
        "from imageio import imread, mimsave"
      ]
    },
    {
      "cell_type": "code",
      "execution_count": null,
      "metadata": {
        "id": "HL-To1U_YsQS"
      },
      "outputs": [],
      "source": [
        "#connect to your google drive. you will likely need to give permission\n",
        "from google.colab import drive\n",
        "drive.mount('/content/gdrive', force_remount=True)"
      ]
    },
    {
      "cell_type": "code",
      "execution_count": null,
      "metadata": {
        "id": "enhlvWMQYxVA"
      },
      "outputs": [],
      "source": [
        "#file paths for your images to be processed and the output folder\n",
        "filepath = '/content/gdrive/My Drive/raspberry_pi/whithampi2/20220715/'\n",
        "timepoints=glob.glob(filepath + '*.jpg')\n",
        "new_image_dir = '/content/gdrive/My Drive/raspberry_pi/whithampi2/20220715/by_leaf'\n",
        "gif_dir = '/content/gdrive/My Drive/raspberry_pi/whithampi2/20220715/gifs'"
      ]
    },
    {
      "cell_type": "code",
      "execution_count": null,
      "metadata": {
        "id": "nf2OmKVvd2YN"
      },
      "outputs": [],
      "source": [
        "#sort files by timepoint. \n",
        "#double check the output to make sure they are in order!\n",
        "#if they are out of order, make sure you have any necessary leading zeros in your filenames\n",
        "timepoints.sort()\n",
        "timepoints"
      ]
    },
    {
      "cell_type": "code",
      "execution_count": null,
      "metadata": {
        "id": "vnaLOI2N7jb9"
      },
      "outputs": [],
      "source": [
        "#allows you to upload a file from your computer. \n",
        "#this file will only be available when the notebook is active. It will need to be reloaded each time you restart the notebook.\n",
        "#I have found this is the easiest way for me to read in a .csv file as uploading it to Drive changes it's extension. \n",
        "#uploading from your computer prevents this and allows it to be read into the notebook successfully\n",
        "from google.colab import files\n",
        "uploaded = files.upload()"
      ]
    },
    {
      "cell_type": "code",
      "execution_count": null,
      "metadata": {
        "id": "B6zngWJE7piw"
      },
      "outputs": [],
      "source": [
        "#read in uploaded csv file and double check contents\n",
        "#your file should have 5 columns, the name of your ROI (typically leaf number), upper left x coord, upper left y coord, lower right x coord, and lower right y coord.\n",
        "coords = pd.read_csv(\"20220715_coords.csv\")\n",
        "print(coords)"
      ]
    },
    {
      "cell_type": "code",
      "execution_count": null,
      "metadata": {
        "id": "dIs08jYSYmh5"
      },
      "outputs": [],
      "source": [
        "#for loop to generate a single plot for each leaf that includes the images from every timepoint.\n",
        "\n",
        "for i in range(len(coords)):\n",
        "  imagelist = []\n",
        "  for file in timepoints:\n",
        "    I = Image.open(file)\n",
        "    imagelist.append(I.crop((coords.iat[i,1],coords.iat[i,2],coords.iat[i,3],coords.iat[i,4])))\n",
        "  fig = plt.figure(figsize=(45,38))\n",
        "  for x in range(len(imagelist)):\n",
        "    plt.subplot(6,8,x+1)\n",
        "    plt.imshow(imagelist[x])\n",
        "    plt.xticks([]);\n",
        "    plt.yticks([]);\n",
        "    plt.title(x)\n",
        "  plt.tight_layout()\n",
        "  plt.savefig(f\"{new_image_dir}/leaf_\" + str(i) + \".jpg\")"
      ]
    },
    {
      "cell_type": "code",
      "source": [
        "#makes gifs of each leaf. \n",
        "#You do not need to run the previous cell to run this cell.\n",
        "#You can also add this to the previous cell inside the for loop to run them all together.\n",
        "for i in range(len(coords)):\n",
        "  imagelist = []\n",
        "  for file in timepoints:\n",
        "    I = Image.open(file)\n",
        "    imagelist.append(np.array(I.crop((coords.iat[i,1],coords.iat[i,2],coords.iat[i,3],coords.iat[i,4]))))\n",
        "  mimsave(f\"{gif_dir}/leaf_\" + str(i) + \".gif\", imagelist)\n"
      ],
      "metadata": {
        "id": "ZksuGkuNMBUF"
      },
      "execution_count": null,
      "outputs": []
    }
  ],
  "metadata": {
    "colab": {
      "collapsed_sections": [],
      "provenance": [],
      "authorship_tag": "ABX9TyPzyHGFmpoD7wRKK0g4SwFh",
      "include_colab_link": true
    },
    "kernelspec": {
      "display_name": "Python 3",
      "name": "python3"
    },
    "language_info": {
      "name": "python"
    }
  },
  "nbformat": 4,
  "nbformat_minor": 0
}